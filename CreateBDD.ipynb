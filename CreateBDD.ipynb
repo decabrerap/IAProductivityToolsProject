{
  "nbformat": 4,
  "nbformat_minor": 0,
  "metadata": {
    "colab": {
      "provenance": []
    },
    "kernelspec": {
      "name": "python3",
      "display_name": "Python 3"
    },
    "language_info": {
      "name": "python"
    }
  },
  "cells": [
    {
      "cell_type": "code",
      "execution_count": 1,
      "metadata": {
        "id": "LoFsN-OXDiB3"
      },
      "outputs": [],
      "source": [
        "import pandas as pd\n",
        "import sqlite3\n",
        "from datetime import timedelta, date\n",
        "from sklearn.model_selection import train_test_split"
      ]
    },
    {
      "cell_type": "code",
      "source": [
        "# Cargar el dataset desde el archivo csv\n",
        "df= pd.read_csv(\"/content/ai_dev_productivity.csv\")"
      ],
      "metadata": {
        "id": "MyZ4npYpD8Gb"
      },
      "execution_count": 3,
      "outputs": []
    },
    {
      "cell_type": "code",
      "source": [
        "# Separación de datos 80% entrenamiento y 20% pruebas\n",
        "df_train, df_test = train_test_split(df, test_size=0.2, random_state=42)"
      ],
      "metadata": {
        "id": "OT8O7GgAEjij"
      },
      "execution_count": 4,
      "outputs": []
    },
    {
      "cell_type": "code",
      "source": [
        "# Obtener csv con los datos de entrenamiento\n",
        "df_train.to_csv(\"training_data.csv\", index=False)"
      ],
      "metadata": {
        "id": "R9pX-bHCMhZr"
      },
      "execution_count": 5,
      "outputs": []
    },
    {
      "cell_type": "code",
      "source": [
        "# Establecer la conexión, crear la base de datos y guardar la tabla\n",
        "conn = sqlite3.connect(\"test_data.db\")\n",
        "df_test.to_sql(\"productivity\", conn, if_exists=\"replace\", index=False)\n",
        "conn.close"
      ],
      "metadata": {
        "colab": {
          "base_uri": "https://localhost:8080/"
        },
        "id": "LrDXDeINHgpX",
        "outputId": "83a8c9c4-b0c1-4dd0-b750-348da6a58453"
      },
      "execution_count": 6,
      "outputs": [
        {
          "output_type": "execute_result",
          "data": {
            "text/plain": [
              "<function Connection.close()>"
            ]
          },
          "metadata": {},
          "execution_count": 6
        }
      ]
    },
    {
      "cell_type": "code",
      "source": [
        "# Ejecutar consulta para obtener los datos de la tabla\n",
        "conn = sqlite3.connect(\"test_data.db\")\n",
        "query = pd.read_sql_query(\"SELECT * FROM productivity LIMIT 10\", conn)\n",
        "print(query)"
      ],
      "metadata": {
        "colab": {
          "base_uri": "https://localhost:8080/"
        },
        "id": "XsT0pPQhHp0z",
        "outputId": "109f55ed-80d0-4644-abdc-de6b4c446730"
      },
      "execution_count": 7,
      "outputs": [
        {
          "output_type": "stream",
          "name": "stdout",
          "text": [
            "   deep_work_hours  coffee_intake_mg  distractions  sleep_hours  commits  \\\n",
            "0             8.07               600             3          4.6        7   \n",
            "1             8.13               600             2          5.7        9   \n",
            "2             9.31               600             1          6.2        9   \n",
            "3             3.57               360             3          7.8        5   \n",
            "4             4.68               488             2          6.9        9   \n",
            "5             7.36               600             0          8.1        6   \n",
            "6             5.37               548             1          6.6        2   \n",
            "7             6.17               600             1          7.7        9   \n",
            "8             5.72               479             3          5.4        3   \n",
            "9             4.87               475             4          5.6        4   \n",
            "\n",
            "   bugs_reported  ai_usage_hours  cognitive_load  productivity_score  \n",
            "0              1            4.92             7.2                   0  \n",
            "1              0            1.69             4.6                   1  \n",
            "2              0            2.18             3.6                   1  \n",
            "3              1            1.25             4.4                   0  \n",
            "4              2            1.34             4.5                   1  \n",
            "5              0            4.15             1.8                   1  \n",
            "6              0            2.86             3.5                   1  \n",
            "7              0            2.48             2.8                   1  \n",
            "8              1            2.41             6.5                   1  \n",
            "9              0            2.07             6.2                   1  \n"
          ]
        }
      ]
    },
    {
      "cell_type": "code",
      "source": [
        "# Cerrar la conexión a la bdd\n",
        "conn.close()"
      ],
      "metadata": {
        "id": "ogRlnQRNJYic"
      },
      "execution_count": 8,
      "outputs": []
    }
  ]
}